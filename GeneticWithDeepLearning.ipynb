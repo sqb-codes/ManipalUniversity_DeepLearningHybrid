{
  "nbformat": 4,
  "nbformat_minor": 0,
  "metadata": {
    "colab": {
      "provenance": []
    },
    "kernelspec": {
      "name": "python3",
      "display_name": "Python 3"
    },
    "language_info": {
      "name": "python"
    }
  },
  "cells": [
    {
      "cell_type": "code",
      "execution_count": 1,
      "metadata": {
        "id": "ZkIKm1pxL8Gf"
      },
      "outputs": [],
      "source": [
        "import numpy as np\n",
        "import random"
      ]
    },
    {
      "cell_type": "code",
      "source": [
        "X = np.array([[1,0,1,0], [1,0,1,1], [0,1,0,1]])\n",
        "y = np.array([[1],[1],[0]])"
      ],
      "metadata": {
        "id": "UgCKgW9QMABn"
      },
      "execution_count": 2,
      "outputs": []
    },
    {
      "cell_type": "code",
      "source": [
        "# Activation function\n",
        "def sigmoid(x):\n",
        "  return 1/(1+np.exp(-x))\n",
        "\n",
        "def derivativeSigmoid(x):\n",
        "  return x*(1-x)"
      ],
      "metadata": {
        "id": "wudBpGpbMDt0"
      },
      "execution_count": 3,
      "outputs": []
    },
    {
      "cell_type": "code",
      "source": [
        "def feedforward(model, x):\n",
        "  # Feedforward\n",
        "  z1 = np.dot(X, model['weightHidden']) + model['biasHidden']\n",
        "  hidden_layer = sigmoid(z1)\n",
        "\n",
        "  z2 = np.dot(hidden_layer, model['weightOutput']) + model['biasOutput']\n",
        "  output_layer = sigmoid(z2)\n",
        "\n",
        "  return output_layer"
      ],
      "metadata": {
        "id": "0Cprp6LNMG5G"
      },
      "execution_count": 4,
      "outputs": []
    },
    {
      "cell_type": "code",
      "source": [
        "# Mean Squared Error\n",
        "def compute_loss(y_true, y_pred):\n",
        "  return np.mean((y_true - y_pred) ** 2)"
      ],
      "metadata": {
        "id": "FlkjnxNFMZzJ"
      },
      "execution_count": 6,
      "outputs": []
    },
    {
      "cell_type": "code",
      "source": [
        "# fitness function\n",
        "def fitness(model):\n",
        "  y_pred = feedforward(model, X)\n",
        "  loss = compute_loss(y, y_pred)\n",
        "  return 1/loss"
      ],
      "metadata": {
        "id": "kped6_-AMmiP"
      },
      "execution_count": 11,
      "outputs": []
    },
    {
      "cell_type": "code",
      "source": [
        "# crossover function - child gets weights from both parents randomly\n",
        "def crossover(parent1, parent2):\n",
        "  child_1, child_2 = {}, {}\n",
        "  for key in parent1.keys():\n",
        "    # child_1[key] = random.choice([parent1[key], parent2[key]])\n",
        "    # child_2[key] = random.choice([parent1[key], parent2[key]])\n",
        "\n",
        "    # Alternate to generate child\n",
        "    mask = np.random.randint(0, 2, parent1[key].shape)\n",
        "    child_1[key] = np.where(mask, parent1[key], parent2[key])\n",
        "    child_2[key] = np.where(mask, parent2[key], parent1[key])\n",
        "\n",
        "  return child_1, child_2"
      ],
      "metadata": {
        "id": "DJBB3C8lMucF"
      },
      "execution_count": 12,
      "outputs": []
    },
    {
      "cell_type": "code",
      "source": [
        "# mutation function - add random noise to some of the weights to maintain diversity\n",
        "def mutate(model, mutation_rate):\n",
        "  for key in model.keys():\n",
        "    if np.random.random() < mutation_rate:\n",
        "      noise = np.random.normal(scale=0.1, size=model[key].shape)\n",
        "      model[key] += noise\n",
        "  return model"
      ],
      "metadata": {
        "id": "Jmc-dxhZMxc9"
      },
      "execution_count": 13,
      "outputs": []
    },
    {
      "cell_type": "code",
      "source": [
        "# generate population function\n",
        "def generate_population(population_size, input_size, hidden_size, output_size):\n",
        "  population = []\n",
        "  for i in range(population_size):\n",
        "    model = {\n",
        "      'weightHidden': np.random.randn(input_size, hidden_size),\n",
        "      'biasHidden': np.random.randn(1, hidden_size),\n",
        "      'weightOutput': np.random.randn(hidden_size, output_size),\n",
        "      'biasOutput': np.random.randn(1, output_size)\n",
        "    }\n",
        "    population.append(model)\n",
        "  return population"
      ],
      "metadata": {
        "id": "QYe__N9_M0BJ"
      },
      "execution_count": 15,
      "outputs": []
    },
    {
      "cell_type": "code",
      "source": [
        "def genetic_algorithm(generations, population_size, input_size, hidden_size, output_size, mutation_rate):\n",
        "  population = generate_population(population_size, input_size, hidden_size, output_size)\n",
        "  for generation in range(generations):\n",
        "    population_fitness =  [fitness(individual) for individual in population]\n",
        "    best_fitness = max(population_fitness)\n",
        "    print(f\"Generation: {generation}, Best Fitness: {best_fitness}\")\n",
        "\n",
        "    parents = [population[i] for i in np.random.choice(range(population_size), size=population_size//2, replace=True)]\n",
        "    children = []\n",
        "    while len(children) < population_size:\n",
        "      parent1, parent2 = random.sample(parents, 2)\n",
        "      child1, child2 = crossover(parent1, parent2)\n",
        "      children.append(child1)\n",
        "      children.append(child2)\n",
        "\n",
        "    population = children[:population_size]\n",
        "\n",
        "  best_individual = max(population, key=fitness)\n",
        "\n",
        "  return best_individual"
      ],
      "metadata": {
        "id": "ttvn0bQYQe3H"
      },
      "execution_count": 19,
      "outputs": []
    },
    {
      "cell_type": "code",
      "source": [
        "# 1. GA begins by generating a population of networks, each with random weights\n",
        "# 2. Fitness of each network is evaluated based on its performance (higher the fitness score, better the model is)\n",
        "# 3. Best performing networks (parent) are selected, and crossover is performed to create new offspring\n",
        "# 4. Mutation is applied to some of the offspring to introduce diversity\n",
        "# 5. Population is replaced with new generation\n",
        "# 6. After genetic algorithm finishes, we test the best neural network found on our dataset"
      ],
      "metadata": {
        "id": "mVneAA2EM2yQ"
      },
      "execution_count": 20,
      "outputs": []
    },
    {
      "cell_type": "code",
      "source": [
        "population_size = 20\n",
        "generations = 100\n",
        "input_size = 4\n",
        "hidden_size = 3\n",
        "output_size = 1\n",
        "mutation_rate = 0.3\n",
        "\n",
        "best_network = genetic_algorithm(generations, population_size, input_size, hidden_size, output_size, mutation_rate)\n",
        "\n",
        "y_pred = feedforward(best_network, X)\n",
        "print(y_pred)"
      ],
      "metadata": {
        "colab": {
          "base_uri": "https://localhost:8080/"
        },
        "id": "bEWwVFovQDK9",
        "outputId": "0a6bfddc-ca95-46ab-a2dd-35176265757a"
      },
      "execution_count": 23,
      "outputs": [
        {
          "output_type": "stream",
          "name": "stdout",
          "text": [
            "Generation: 0, Best Fitness: 5.484829293031718\n",
            "Generation: 1, Best Fitness: 14.051863826537879\n",
            "Generation: 2, Best Fitness: 6.629882211489616\n",
            "Generation: 3, Best Fitness: 8.190267581832563\n",
            "Generation: 4, Best Fitness: 5.599024527341807\n",
            "Generation: 5, Best Fitness: 5.494526306111231\n",
            "Generation: 6, Best Fitness: 5.983807850608858\n",
            "Generation: 7, Best Fitness: 7.618153099404086\n",
            "Generation: 8, Best Fitness: 5.605005620703163\n",
            "Generation: 9, Best Fitness: 5.605005620703163\n",
            "Generation: 10, Best Fitness: 5.6565956102246675\n",
            "Generation: 11, Best Fitness: 5.61929885126155\n",
            "Generation: 12, Best Fitness: 5.61929885126155\n",
            "Generation: 13, Best Fitness: 5.61929885126155\n",
            "Generation: 14, Best Fitness: 5.61929885126155\n",
            "Generation: 15, Best Fitness: 5.61929885126155\n",
            "Generation: 16, Best Fitness: 5.61929885126155\n",
            "Generation: 17, Best Fitness: 5.605985136486915\n",
            "Generation: 18, Best Fitness: 5.61929885126155\n",
            "Generation: 19, Best Fitness: 5.605985136486915\n",
            "Generation: 20, Best Fitness: 5.605985136486915\n",
            "Generation: 21, Best Fitness: 5.605985136486915\n",
            "Generation: 22, Best Fitness: 5.61929885126155\n",
            "Generation: 23, Best Fitness: 4.714825801718918\n",
            "Generation: 24, Best Fitness: 4.714825801718918\n",
            "Generation: 25, Best Fitness: 4.714825801718918\n",
            "Generation: 26, Best Fitness: 4.714825801718918\n",
            "Generation: 27, Best Fitness: 4.714825801718918\n",
            "Generation: 28, Best Fitness: 4.714825801718918\n",
            "Generation: 29, Best Fitness: 4.710174563168878\n",
            "Generation: 30, Best Fitness: 4.710174563168878\n",
            "Generation: 31, Best Fitness: 4.710174563168878\n",
            "Generation: 32, Best Fitness: 4.710174563168878\n",
            "Generation: 33, Best Fitness: 4.710174563168878\n",
            "Generation: 34, Best Fitness: 4.710174563168878\n",
            "Generation: 35, Best Fitness: 4.710174563168878\n",
            "Generation: 36, Best Fitness: 4.710174563168878\n",
            "Generation: 37, Best Fitness: 4.710174563168878\n",
            "Generation: 38, Best Fitness: 4.710174563168878\n",
            "Generation: 39, Best Fitness: 4.710174563168878\n",
            "Generation: 40, Best Fitness: 4.710174563168878\n",
            "Generation: 41, Best Fitness: 4.710174563168878\n",
            "Generation: 42, Best Fitness: 4.710174563168878\n",
            "Generation: 43, Best Fitness: 4.710174563168878\n",
            "Generation: 44, Best Fitness: 4.710174563168878\n",
            "Generation: 45, Best Fitness: 4.710174563168878\n",
            "Generation: 46, Best Fitness: 4.710174563168878\n",
            "Generation: 47, Best Fitness: 4.710174563168878\n",
            "Generation: 48, Best Fitness: 4.710174563168878\n",
            "Generation: 49, Best Fitness: 4.710174563168878\n",
            "Generation: 50, Best Fitness: 4.710174563168878\n",
            "Generation: 51, Best Fitness: 4.710174563168878\n",
            "Generation: 52, Best Fitness: 4.710174563168878\n",
            "Generation: 53, Best Fitness: 4.710174563168878\n",
            "Generation: 54, Best Fitness: 4.710174563168878\n",
            "Generation: 55, Best Fitness: 4.710174563168878\n",
            "Generation: 56, Best Fitness: 4.710174563168878\n",
            "Generation: 57, Best Fitness: 4.710174563168878\n",
            "Generation: 58, Best Fitness: 4.710174563168878\n",
            "Generation: 59, Best Fitness: 4.710174563168878\n",
            "Generation: 60, Best Fitness: 4.710174563168878\n",
            "Generation: 61, Best Fitness: 4.710174563168878\n",
            "Generation: 62, Best Fitness: 4.710174563168878\n",
            "Generation: 63, Best Fitness: 4.710174563168878\n",
            "Generation: 64, Best Fitness: 4.710174563168878\n",
            "Generation: 65, Best Fitness: 4.710174563168878\n",
            "Generation: 66, Best Fitness: 4.710174563168878\n",
            "Generation: 67, Best Fitness: 4.710174563168878\n",
            "Generation: 68, Best Fitness: 4.710174563168878\n",
            "Generation: 69, Best Fitness: 4.710174563168878\n",
            "Generation: 70, Best Fitness: 4.710174563168878\n",
            "Generation: 71, Best Fitness: 4.710174563168878\n",
            "Generation: 72, Best Fitness: 4.710174563168878\n",
            "Generation: 73, Best Fitness: 4.710174563168878\n",
            "Generation: 74, Best Fitness: 4.710174563168878\n",
            "Generation: 75, Best Fitness: 4.710174563168878\n",
            "Generation: 76, Best Fitness: 4.710174563168878\n",
            "Generation: 77, Best Fitness: 4.710174563168878\n",
            "Generation: 78, Best Fitness: 4.710174563168878\n",
            "Generation: 79, Best Fitness: 4.710174563168878\n",
            "Generation: 80, Best Fitness: 4.710174563168878\n",
            "Generation: 81, Best Fitness: 4.710174563168878\n",
            "Generation: 82, Best Fitness: 4.710174563168878\n",
            "Generation: 83, Best Fitness: 4.710174563168878\n",
            "Generation: 84, Best Fitness: 4.710174563168878\n",
            "Generation: 85, Best Fitness: 4.710174563168878\n",
            "Generation: 86, Best Fitness: 4.710174563168878\n",
            "Generation: 87, Best Fitness: 4.710174563168878\n",
            "Generation: 88, Best Fitness: 4.710174563168878\n",
            "Generation: 89, Best Fitness: 4.710174563168878\n",
            "Generation: 90, Best Fitness: 4.710174563168878\n",
            "Generation: 91, Best Fitness: 4.710174563168878\n",
            "Generation: 92, Best Fitness: 4.710174563168878\n",
            "Generation: 93, Best Fitness: 4.710174563168878\n",
            "Generation: 94, Best Fitness: 4.710174563168878\n",
            "Generation: 95, Best Fitness: 4.710174563168878\n",
            "Generation: 96, Best Fitness: 4.710174563168878\n",
            "Generation: 97, Best Fitness: 4.710174563168878\n",
            "Generation: 98, Best Fitness: 4.710174563168878\n",
            "Generation: 99, Best Fitness: 4.710174563168878\n",
            "[[0.81798108]\n",
            " [0.76848725]\n",
            " [0.74174796]]\n"
          ]
        }
      ]
    },
    {
      "cell_type": "code",
      "source": [],
      "metadata": {
        "id": "A4Fl_sdjS2ti"
      },
      "execution_count": null,
      "outputs": []
    }
  ]
}