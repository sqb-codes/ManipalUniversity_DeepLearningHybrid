{
  "nbformat": 4,
  "nbformat_minor": 0,
  "metadata": {
    "colab": {
      "provenance": []
    },
    "kernelspec": {
      "name": "python3",
      "display_name": "Python 3"
    },
    "language_info": {
      "name": "python"
    }
  },
  "cells": [
    {
      "cell_type": "code",
      "execution_count": 1,
      "metadata": {
        "id": "N1BjRXrs-kql"
      },
      "outputs": [],
      "source": [
        "import numpy as np\n",
        "import matplotlib.pyplot as plt"
      ]
    },
    {
      "cell_type": "code",
      "source": [
        "X = np.array([[1,0,1,0], [1,0,1,1], [0,1,0,1]])\n",
        "y = np.array([[1],[1],[0]])"
      ],
      "metadata": {
        "id": "B6DDx6s--7LG"
      },
      "execution_count": 2,
      "outputs": []
    },
    {
      "cell_type": "code",
      "source": [
        "# Activation function\n",
        "def sigmoid(x):\n",
        "  return 1/(1+np.exp(-x))"
      ],
      "metadata": {
        "id": "GnXTnZTm_bJh"
      },
      "execution_count": 3,
      "outputs": []
    },
    {
      "cell_type": "code",
      "source": [
        "def derivativeSigmoid(x):\n",
        "  return x*(1-x)"
      ],
      "metadata": {
        "id": "aDsKEh_C_oAY"
      },
      "execution_count": 4,
      "outputs": []
    },
    {
      "cell_type": "code",
      "source": [
        "input_neurons = X.shape[1]\n",
        "hidden_neurons = 3\n",
        "output_neurons = 1\n",
        "\n",
        "epochs = 40000\n",
        "alpha = 0.01  # learning_rate"
      ],
      "metadata": {
        "id": "M10Yl4YA_wfo"
      },
      "execution_count": 27,
      "outputs": []
    },
    {
      "cell_type": "code",
      "source": [
        "# Weights and Bias Initialization\n",
        "weightHidden = np.random.uniform(size=(input_neurons, hidden_neurons))\n",
        "biasHidden = np.random.uniform(size=(1, hidden_neurons))\n",
        "weightOutput = np.random.uniform(size=(hidden_neurons, output_neurons))\n",
        "biasOutput = np.random.uniform(size=(1, output_neurons))"
      ],
      "metadata": {
        "id": "kKjKdE3AALLq"
      },
      "execution_count": 28,
      "outputs": []
    },
    {
      "cell_type": "code",
      "source": [
        "for i in range(epochs):\n",
        "  # Feedforward\n",
        "  z1 = np.dot(X, weightHidden) + biasHidden\n",
        "  hidden_layer = sigmoid(z1)\n",
        "\n",
        "  z2 = np.dot(hidden_layer, weightOutput) + biasOutput\n",
        "  output_layer = sigmoid(z2)\n",
        "\n",
        "  # Backpropagation\n",
        "  error_output_layer = y - output_layer\n",
        "  slope_output_layer = derivativeSigmoid(output_layer)\n",
        "  delta_output = error_output_layer * slope_output_layer\n",
        "\n",
        "  error_hidden_layer = np.dot(delta_output, weightOutput.T)\n",
        "  slope_hidden_layer = derivativeSigmoid(hidden_layer)\n",
        "  delta_hidden = error_hidden_layer * slope_hidden_layer\n",
        "\n",
        "  weightOutput += np.dot(hidden_layer.T, delta_output) * alpha\n",
        "  weightHidden += np.dot(X.T, delta_hidden) * alpha\n",
        "  biasOutput += np.sum(delta_output, axis=0, keepdims=True) * alpha\n",
        "  biasHidden += np.sum(delta_hidden, axis=0, keepdims=True) * alpha\n"
      ],
      "metadata": {
        "id": "z7K3CaYmCVBY"
      },
      "execution_count": 29,
      "outputs": []
    },
    {
      "cell_type": "code",
      "source": [
        "print(output_layer)"
      ],
      "metadata": {
        "colab": {
          "base_uri": "https://localhost:8080/"
        },
        "id": "AtKfXo4vEp3u",
        "outputId": "36497e29-b3c4-445f-bb96-ffa30412ad35"
      },
      "execution_count": 30,
      "outputs": [
        {
          "output_type": "stream",
          "name": "stdout",
          "text": [
            "[[0.97773265]\n",
            " [0.96892354]\n",
            " [0.03931746]]\n"
          ]
        }
      ]
    },
    {
      "cell_type": "code",
      "source": [
        "np.round(output_layer)"
      ],
      "metadata": {
        "colab": {
          "base_uri": "https://localhost:8080/"
        },
        "id": "0QZYBic-EsaC",
        "outputId": "d2258c64-89c8-4407-a0f0-4920e3f4c49a"
      },
      "execution_count": 31,
      "outputs": [
        {
          "output_type": "execute_result",
          "data": {
            "text/plain": [
              "array([[1.],\n",
              "       [1.],\n",
              "       [0.]])"
            ]
          },
          "metadata": {},
          "execution_count": 31
        }
      ]
    },
    {
      "cell_type": "code",
      "source": [
        "y"
      ],
      "metadata": {
        "colab": {
          "base_uri": "https://localhost:8080/"
        },
        "id": "s6yrTZvKEz_2",
        "outputId": "4c3e8598-71bc-4d63-fd78-138af1ff6db2"
      },
      "execution_count": 32,
      "outputs": [
        {
          "output_type": "execute_result",
          "data": {
            "text/plain": [
              "array([[1],\n",
              "       [1],\n",
              "       [0]])"
            ]
          },
          "metadata": {},
          "execution_count": 32
        }
      ]
    },
    {
      "cell_type": "code",
      "source": [
        "error = y - output_layer\n",
        "print(error)"
      ],
      "metadata": {
        "colab": {
          "base_uri": "https://localhost:8080/"
        },
        "id": "rv9MCkuQE1Kp",
        "outputId": "f168372d-312e-41ae-8951-e335eda29ade"
      },
      "execution_count": 33,
      "outputs": [
        {
          "output_type": "stream",
          "name": "stdout",
          "text": [
            "[[ 0.02226735]\n",
            " [ 0.03107646]\n",
            " [-0.03931746]]\n"
          ]
        }
      ]
    },
    {
      "cell_type": "code",
      "source": [],
      "metadata": {
        "id": "6kDHcrcnE47y"
      },
      "execution_count": null,
      "outputs": []
    }
  ]
}